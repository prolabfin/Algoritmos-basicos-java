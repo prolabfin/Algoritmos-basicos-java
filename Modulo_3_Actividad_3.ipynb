{
  "nbformat": 4,
  "nbformat_minor": 0,
  "metadata": {
    "colab": {
      "provenance": [],
      "authorship_tag": "ABX9TyPTP74+qKWNzKSI40kT4MRg",
      "include_colab_link": true
    },
    "kernelspec": {
      "name": "python3",
      "display_name": "Python 3"
    },
    "language_info": {
      "name": "python"
    }
  },
  "cells": [
    {
      "cell_type": "markdown",
      "metadata": {
        "id": "view-in-github",
        "colab_type": "text"
      },
      "source": [
        "<a href=\"https://colab.research.google.com/github/prolabfin/Algoritmos-basicos-java/blob/main/Modulo_3_Actividad_3.ipynb\" target=\"_parent\"><img src=\"https://colab.research.google.com/assets/colab-badge.svg\" alt=\"Open In Colab\"/></a>"
      ]
    },
    {
      "cell_type": "code",
      "execution_count": 2,
      "metadata": {
        "colab": {
          "base_uri": "https://localhost:8080/"
        },
        "id": "4olaPVzu4VAb",
        "outputId": "8f9a1ba1-034c-4992-b9cb-73757e2cde79"
      },
      "outputs": [
        {
          "output_type": "stream",
          "name": "stdout",
          "text": [
            "                   Nombre  Calificación   Precio\n",
            "0                 Cuphead           100   180.00\n",
            "1            Doom eternal            99  1400.00\n",
            "2       Horizon Zero Dawn            90   450.70\n",
            "3  Resident Evil 2 Remake            95   450.88\n",
            "4     Super Mario Odyssey            90  1700.05\n",
            "5               Minecraft            95   550.54\n",
            "El precio promedio es: 788.695\n",
            "La calificación promedio es: 94.83333333333333\n"
          ]
        }
      ],
      "source": [
        "\n",
        "# desde aca copio\n",
        "import pandas as pd\n",
        "import numpy as np\n",
        "\n",
        "# Leer el archivo CSV\n",
        "df = pd.read_csv(\"/content/videojuegos.csv\", header=0)\n",
        "print(df)\n",
        "# Calcular el promedio de los precios\n",
        "precio_promedio = df[\"Precio\"].mean()\n",
        "\n",
        "# Calcular el promedio de la calificación\n",
        "calificacion_promedio = df[\"Calificación\"].mean()\n",
        "\n",
        "# Imprimir los resultados\n",
        "print(\"El precio promedio es:\", precio_promedio)\n",
        "print(\"La calificación promedio es:\", calificacion_promedio)\n",
        "\n"
      ]
    },
    {
      "cell_type": "code",
      "source": [
        "import pandas as pd\n",
        "import numpy as np\n",
        "\n",
        "# Leer el archivo CSV\n",
        "df2 = pd.read_csv(\"/content/videojuegos2.csv\", header = 0, Columns = ['Nombre', 'Año', 'Consola', 'Calificacion','Categoria','xnom'])\n",
        "print(df2)\n",
        "\n",
        "# respuesta de chat GPT \n",
        "def juegosConsolas(nomArchivo, categoria, decada):\n",
        "    # Leer el archivo CSV\n",
        "    df = pd.read_csv(nomArchivo)\n",
        "    # Filtrar los datos por categoría y década\n",
        "    df = df[(df['Categoria'] == categoria) & (df['Año'] // 10 == decada // 10)]\n",
        "    # Obtener los valores únicos de los juegos y las consolas\n",
        "    juegos = df['Juego'].unique()\n",
        "    consolas = df['Consola'].unique()\n",
        "    # Retornar la tupla con los valores únicos de los juegos y las consolas\n",
        "    return (list(juegos), list(consolas))\n",
        "\n",
        "# siguiendo con la solucion de ChatGPT\n",
        "\n",
        "def crearMatriz(nomArchivo, categoria, decada):\n",
        "    # Leer el archivo CSV\n",
        "    df = pd.read_csv(nomArchivo)\n",
        "    # Filtrar los datos por categoría y década\n",
        "    df = df[(df['Categoria'] == categoria) & (df['Año'] // 10 == decada // 10)]\n",
        "    # Crear una tabla pivote con los juegos, las consolas y las calificaciones\n",
        "    tabla = pd.pivot_table(df, values='Calificacion', index=['Juego'], columns=['Consola'], fill_value=0)\n",
        "    # Retornar la matriz con las calificaciones\n",
        "    return tabla.values\n"
      ],
      "metadata": {
        "id": "jhsSinlMJZGU"
      },
      "execution_count": null,
      "outputs": []
    }
  ]
}