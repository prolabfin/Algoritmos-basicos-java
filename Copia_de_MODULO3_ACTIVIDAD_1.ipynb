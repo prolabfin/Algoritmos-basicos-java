{
  "nbformat": 4,
  "nbformat_minor": 0,
  "metadata": {
    "colab": {
      "provenance": [],
      "authorship_tag": "ABX9TyOvub5KfGE57qLe6iijKV72",
      "include_colab_link": true
    },
    "kernelspec": {
      "name": "python3",
      "display_name": "Python 3"
    },
    "language_info": {
      "name": "python"
    }
  },
  "cells": [
    {
      "cell_type": "markdown",
      "metadata": {
        "id": "view-in-github",
        "colab_type": "text"
      },
      "source": [
        "<a href=\"https://colab.research.google.com/github/prolabfin/Algoritmos-basicos-java/blob/main/Copia_de_MODULO3_ACTIVIDAD_1.ipynb\" target=\"_parent\"><img src=\"https://colab.research.google.com/assets/colab-badge.svg\" alt=\"Open In Colab\"/></a>"
      ]
    },
    {
      "cell_type": "code",
      "execution_count": null,
      "metadata": {
        "id": "8H9MzM_z_FPK",
        "colab": {
          "base_uri": "https://localhost:8080/"
        },
        "outputId": "cb8e00e5-f711-466c-959c-82aa432b4f5e"
      },
      "outputs": [
        {
          "output_type": "stream",
          "name": "stdout",
          "text": [
            "[[ 6  8]\n",
            " [10 12]]\n"
          ]
        }
      ],
      "source": [
        "# . Dadas 2 matrices con dimensiones similares, ¿cómo obtener una salida\n",
        "# de matriz en la que cada elemento es una suma de elementos de las 2\n",
        "# matrices? (solo puede usar numpy como librería, si realiza la matriz\n",
        "# con otro paquete el ejercicio no es válido)\n",
        "\n",
        "import numpy as np\n",
        "\n",
        "# Definimos las dos matrices\n",
        "matrix1 = np.array([[1, 2], [3, 4]])\n",
        "matrix2 = np.array([[5, 6], [7, 8]])\n",
        "\n",
        "# Verificamos que las dimensiones de ambas matrices sean iguales\n",
        "if matrix1.shape == matrix2.shape:\n",
        "    # Sumamos elemento a elemento las dos matrices\n",
        "    output_matrix = matrix1 + matrix2\n",
        "    print(output_matrix)\n",
        "else:\n",
        "    print(\"Las dimensiones de las matrices no son iguales.\")\n",
        "\n"
      ]
    },
    {
      "cell_type": "code",
      "source": [
        "# Cree una matriz de identidad de dimensión 4\n",
        "\n",
        "import numpy as np\n",
        "\n",
        "# Creamos una matriz de identidad de dimensión 4\n",
        "identity_matrix = np.eye(4)\n",
        "\n",
        "print(identity_matrix)\n"
      ],
      "metadata": {
        "colab": {
          "base_uri": "https://localhost:8080/"
        },
        "id": "m77U-WpiLipv",
        "outputId": "a3bb12b1-2cd5-49f8-da05-9f8ec4faf081"
      },
      "execution_count": null,
      "outputs": [
        {
          "output_type": "stream",
          "name": "stdout",
          "text": [
            "[[1. 0. 0. 0.]\n",
            " [0. 1. 0. 0.]\n",
            " [0. 0. 1. 0.]\n",
            " [0. 0. 0. 1.]]\n"
          ]
        }
      ]
    },
    {
      "cell_type": "code",
      "source": [
        "# convertir una matriz binaria a booleana \n",
        "\n",
        "\n",
        "\n",
        "import numpy as np\n",
        "\n",
        "# Creamos una matriz numpy binaria\n",
        "binary_matrix = np.array([[0, 1], [1, 0]])\n",
        "\n",
        "# Convertimos la matriz binaria a una matriz booleana\n",
        "boolean_matrix = binary_matrix.astype(bool)\n",
        "\n",
        "print(boolean_matrix)\n",
        "\n",
        "\n",
        "\n"
      ],
      "metadata": {
        "colab": {
          "base_uri": "https://localhost:8080/"
        },
        "id": "erBP5eISNMW1",
        "outputId": "079d5df1-3e5d-47d1-c3d1-8bbd932ae8c2"
      },
      "execution_count": null,
      "outputs": [
        {
          "output_type": "stream",
          "name": "stdout",
          "text": [
            "[[False  True]\n",
            " [ True False]]\n"
          ]
        }
      ]
    },
    {
      "cell_type": "code",
      "source": [
        "# Genere una secuencia de números en forma de matriz numpy de 0 a\n",
        "# 100 con espacios de 2 números, por ejemplo: 0, 2, 4 .\n",
        "\n",
        "import numpy as np\n",
        "\n",
        "# Generamos la secuencia de números de 0 a 100 con espacios de 2\n",
        "sequence = np.arange(0, 101, 2)\n",
        "\n",
        "print(sequence)\n"
      ],
      "metadata": {
        "colab": {
          "base_uri": "https://localhost:8080/"
        },
        "id": "QWD9zjJjQICf",
        "outputId": "c2ad59e2-47ff-4205-93c5-bc10726e64af"
      },
      "execution_count": null,
      "outputs": [
        {
          "output_type": "stream",
          "name": "stdout",
          "text": [
            "[  0   2   4   6   8  10  12  14  16  18  20  22  24  26  28  30  32  34\n",
            "  36  38  40  42  44  46  48  50  52  54  56  58  60  62  64  66  68  70\n",
            "  72  74  76  78  80  82  84  86  88  90  92  94  96  98 100]\n"
          ]
        }
      ]
    },
    {
      "cell_type": "code",
      "source": [],
      "metadata": {
        "id": "kvoOvdDKSfS_"
      },
      "execution_count": null,
      "outputs": []
    }
  ]
}