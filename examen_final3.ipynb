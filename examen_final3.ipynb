{
  "nbformat": 4,
  "nbformat_minor": 0,
  "metadata": {
    "colab": {
      "provenance": [],
      "include_colab_link": true
    },
    "kernelspec": {
      "name": "python3",
      "display_name": "Python 3"
    },
    "language_info": {
      "name": "python"
    }
  },
  "cells": [
    {
      "cell_type": "markdown",
      "metadata": {
        "id": "view-in-github",
        "colab_type": "text"
      },
      "source": [
        "<a href=\"https://colab.research.google.com/github/prolabfin/Algoritmos-basicos-java/blob/main/examen_final3.ipynb\" target=\"_parent\"><img src=\"https://colab.research.google.com/assets/colab-badge.svg\" alt=\"Open In Colab\"/></a>"
      ]
    },
    {
      "cell_type": "code",
      "source": [
        "\n",
        "import pandas as pd\n",
        "\n",
        "df_abbrevs = pd.read_csv('state-abbrevs.csv')\n",
        "df_areas = pd.read_csv('state-areas.csv')\n",
        "df_population = pd.read_csv('state-population.csv')\n",
        "\n",
        "df_pop = df_population.dropna()\n",
        "df_pop\n",
        "print('-'*90)\n",
        "print(\"Dataframe de la poblacion con funcion mean, min, max, count \")\n",
        "print('-'*90)\n",
        "agrupado_df = df_pop.groupby(['state/region', 'ages']).agg({\n",
        "    'population': ['mean', 'min', 'max', 'count']\n",
        "})\n",
        "print(agrupado_df)\n",
        "print('-'*90)\n",
        "print(\"Dataframe completo 3 archivo\")\n",
        "print('-'*90)\n",
        "population_abbrevs = pd.merge(df_pop, df_abbrevs, how='outer', left_on='state/region', right_on='abbreviation')\n",
        "population_abbrevs_area = pd.merge(population_abbrevs, df_areas, how='outer', on = 'state')\n",
        "population_abbrevs_area = population_abbrevs_area.drop('abbreviation', axis=1)\n",
        "population_abbrevs_area = population_abbrevs_area.dropna()\n",
        "print(population_abbrevs_area)\n",
        "print('-'*90)\n",
        "print('Calculo de  la población por área para cada estado.')\n",
        "print('-'*90)\n",
        "pop_by_state = population_abbrevs_area.groupby('state/region')['population'].sum()\n",
        "area_by_state = population_abbrevs_area.groupby('state/region')['area (sq. mi)'].mean()\n",
        "pop_per_area = pop_by_state / area_by_state\n",
        "pop_area_df = pd.DataFrame({'state': pop_per_area.index, 'pop/area': pop_per_area.values})\n",
        "print(pop_area_df.head(10))\n",
        "\n",
        "print('-'*90)\n",
        "print('Dataframe El estado, el área, la población, la población por área.')\n",
        "print('-'*90)\n",
        "pop_by_state = population_abbrevs_area.groupby('state/region')['population'].sum()\n",
        "\n",
        "# Seleccionar el valor de área correspondiente a cada estado\n",
        "area_by_state = population_abbrevs_area.set_index('state/region')['area (sq. mi)'].drop_duplicates()\n",
        "\n",
        "# Calcular la población por área para cada estado\n",
        "pop_per_area = pop_by_state / area_by_state\n",
        "\n",
        "# Crear un nuevo dataframe con las columnas 'state', 'population', 'area', 'pop/area' e índice 'state/region'\n",
        "pop_area_df = pd.DataFrame({'state': pop_by_state.index, \n",
        "                            'population': pop_by_state.values,\n",
        "                            'area': area_by_state.values,\n",
        "                            'pop/area': pop_per_area.values},\n",
        "                            index=pop_by_state.index)\n",
        "\n",
        "# Mostrar el resultado\n",
        "print(pop_area_df.head(10))\n"
      ],
      "metadata": {
        "colab": {
          "base_uri": "https://localhost:8080/"
        },
        "id": "auoMlTxxY7jZ",
        "outputId": "566cd8ea-9df9-4740-9de0-e24d0ec59709"
      },
      "execution_count": null,
      "outputs": [
        {
          "output_type": "stream",
          "name": "stdout",
          "text": [
            "------------------------------------------------------------------------------------------\n",
            "Dataframe de la poblacion con funcion mean, min, max, count \n",
            "------------------------------------------------------------------------------------------\n",
            "                        population                            \n",
            "                              mean        min        max count\n",
            "state/region ages                                             \n",
            "AK           total    6.462048e+05   553290.0   735132.0    24\n",
            "             under18  1.866730e+05   177502.0   192636.0    24\n",
            "AL           total    4.484528e+06  4050055.0  4833722.0    24\n",
            "             under18  1.111197e+06  1050041.0  1134927.0    24\n",
            "AR           total    2.693178e+06  2356586.0  2959373.0    24\n",
            "...                            ...        ...        ...   ...\n",
            "WI           under18  1.344394e+06  1302869.0  1370440.0    24\n",
            "WV           total    1.823426e+06  1792548.0  1856680.0    24\n",
            "             under18  4.049168e+05   381678.0   436797.0    24\n",
            "WY           total    5.103280e+05   453690.0   582658.0    24\n",
            "             under18  1.322450e+05   123974.0   137733.0    24\n",
            "\n",
            "[106 rows x 4 columns]\n",
            "------------------------------------------------------------------------------------------\n",
            "Dataframe completo 3 archivo\n",
            "------------------------------------------------------------------------------------------\n",
            "     state/region     ages    year  population    state  area (sq. mi)\n",
            "0              AL  under18  2012.0   1117489.0  Alabama        52423.0\n",
            "1              AL    total  2012.0   4817528.0  Alabama        52423.0\n",
            "2              AL  under18  2010.0   1130966.0  Alabama        52423.0\n",
            "3              AL    total  2010.0   4785570.0  Alabama        52423.0\n",
            "4              AL  under18  2011.0   1125763.0  Alabama        52423.0\n",
            "...           ...      ...     ...         ...      ...            ...\n",
            "2443           WY  under18  1993.0    137458.0  Wyoming        97818.0\n",
            "2444           WY    total  1991.0    459260.0  Wyoming        97818.0\n",
            "2445           WY  under18  1991.0    136720.0  Wyoming        97818.0\n",
            "2446           WY  under18  1990.0    136078.0  Wyoming        97818.0\n",
            "2447           WY    total  1990.0    453690.0  Wyoming        97818.0\n",
            "\n",
            "[2448 rows x 6 columns]\n",
            "------------------------------------------------------------------------------------------\n",
            "Calculo de  la población por área para cada estado.\n",
            "------------------------------------------------------------------------------------------\n",
            "  state       pop/area\n",
            "0    AK      30.451410\n",
            "1    AL    2561.802987\n",
            "2    AR    1522.295532\n",
            "3    AZ    1405.221681\n",
            "4    CA    6365.248768\n",
            "5    CO    1257.776638\n",
            "6    CT   18428.070707\n",
            "7    DC  246814.102941\n",
            "8    DE   12231.404811\n",
            "9    FL    7360.171204\n",
            "------------------------------------------------------------------------------------------\n",
            "Dataframe El estado, el área, la población, la población por área.\n",
            "------------------------------------------------------------------------------------------\n",
            "             state    population      area       pop/area\n",
            "state/region                                             \n",
            "AK              AK  1.998907e+07   52423.0      30.451410\n",
            "AL              AL  1.342974e+08  656425.0    2561.802987\n",
            "AR              AR  8.095872e+07  114006.0    1522.295532\n",
            "AZ              AZ  1.602037e+08   53182.0    1405.221681\n",
            "CA              CA  1.042036e+09  163707.0    6365.248768\n",
            "CO              CO  1.309345e+08  104100.0    1257.776638\n",
            "CT              CT  1.021652e+08    5544.0   18428.070707\n",
            "DC              DC  1.678336e+07    1954.0  246814.102941\n",
            "DE              DE  2.390016e+07      68.0   12231.404811\n",
            "FL              FL  4.839901e+08   65758.0    7360.171204\n"
          ]
        }
      ]
    }
  ]
}